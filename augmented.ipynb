{
 "cells": [
  {
   "cell_type": "code",
   "execution_count": 1,
   "metadata": {},
   "outputs": [],
   "source": [
    "import numpy as np\n",
    "import cv2\n",
    "import os"
   ]
  },
  {
   "cell_type": "code",
   "execution_count": 2,
   "metadata": {},
   "outputs": [
    {
     "data": {
      "text/plain": [
       "(5216, 28, 28, 3)"
      ]
     },
     "execution_count": 2,
     "metadata": {},
     "output_type": "execute_result"
    }
   ],
   "source": [
    "#Training data\n",
    "path='C:\\\\Users\\\\hp\\\\Desktop\\\\Train'\n",
    "img_data=[]\n",
    "labels=[]\n",
    "cnt=0\n",
    "for i in os.listdir(path):\n",
    "    for j in os.listdir(path+'\\\\'+i):\n",
    "        img=cv2.imread(path+'\\\\'+i+'\\\\'+j)\n",
    "        img_resize=cv2.resize(img,(28,28))\n",
    "        img_data.append(img_resize)\n",
    "        labels.append(cnt)\n",
    "    cnt+=1\n",
    "labels=np.array(labels)\n",
    "img_data=np.array(img_data)\n",
    "img_data=img_data/255\n",
    "img_data.shape "
   ]
  },
  {
   "cell_type": "code",
   "execution_count": 3,
   "metadata": {},
   "outputs": [
    {
     "data": {
      "text/plain": [
       "(5216, 28, 28, 3)"
      ]
     },
     "execution_count": 3,
     "metadata": {},
     "output_type": "execute_result"
    }
   ],
   "source": [
    "#Validation data\n",
    "path='C:\\\\Users\\\\hp\\\\Desktop\\\\val'\n",
    "val_data=[]\n",
    "val_labels=[]\n",
    "cnt=0\n",
    "for i in os.listdir(path):\n",
    "    for j in os.listdir(path+'\\\\'+i):\n",
    "        img=cv2.imread(path+'\\\\'+i+'\\\\'+j)\n",
    "        img_resize=cv2.resize(img,(28,28))\n",
    "        val_data.append(img_resize)\n",
    "        val_labels.append(cnt)\n",
    "    cnt+=1\n",
    "val_labels=np.array(labels)\n",
    "val_data=np.array(img_data)\n",
    "val_data=img_data/255\n",
    "val_data.shape "
   ]
  },
  {
   "cell_type": "code",
   "execution_count": 4,
   "metadata": {},
   "outputs": [
    {
     "data": {
      "text/plain": [
       "(5216, 28, 28, 3)"
      ]
     },
     "execution_count": 4,
     "metadata": {},
     "output_type": "execute_result"
    }
   ],
   "source": [
    "#Test data\n",
    "path='C:\\\\Users\\\\hp\\\\Desktop\\\\Test'\n",
    "test_data=[]\n",
    "test_labels=[]\n",
    "cnt=0\n",
    "for i in os.listdir(path):\n",
    "    for j in os.listdir(path+'\\\\'+i):\n",
    "        img=cv2.imread(path+'\\\\'+i+'\\\\'+j)\n",
    "        img_resize=cv2.resize(img,(28,28))\n",
    "        test_data.append(img_resize)\n",
    "        test_labels.append(cnt)\n",
    "    cnt+=1\n",
    "test_labels=np.array(labels)\n",
    "test_data=np.array(img_data)\n",
    "test_data=img_data/255\n",
    "test_data.shape "
   ]
  },
  {
   "cell_type": "code",
   "execution_count": 5,
   "metadata": {},
   "outputs": [
    {
     "name": "stderr",
     "output_type": "stream",
     "text": [
      "C:\\Users\\hp\\Anaconda3\\lib\\site-packages\\h5py\\__init__.py:36: FutureWarning: Conversion of the second argument of issubdtype from `float` to `np.floating` is deprecated. In future, it will be treated as `np.float64 == np.dtype(float).type`.\n",
      "  from ._conv import register_converters as _register_converters\n",
      "Using TensorFlow backend.\n"
     ]
    }
   ],
   "source": [
    "import keras\n",
    "from keras.preprocessing.image import ImageDataGenerator\n",
    "from keras.models import Sequential\n",
    "from keras.layers import Dense, Dropout, Activation, Flatten\n",
    "from keras.layers import Conv2D, MaxPooling2D"
   ]
  },
  {
   "cell_type": "code",
   "execution_count": 6,
   "metadata": {},
   "outputs": [],
   "source": [
    "batch_size = 32\n",
    "num_classes = 2\n",
    "epochs = 50\n",
    "data_augmentation = True\n",
    "num_predictions = 20"
   ]
  },
  {
   "cell_type": "code",
   "execution_count": 7,
   "metadata": {},
   "outputs": [],
   "source": [
    "model = Sequential()\n",
    "model.add(Conv2D(32, (3, 3), padding='same',input_shape=img_data.shape[1:]))\n",
    "model.add(Activation('relu'))\n",
    "model.add(Conv2D(32, (3, 3)))\n",
    "model.add(Activation('relu'))\n",
    "model.add(MaxPooling2D(pool_size=(2, 2)))\n",
    "model.add(Dropout(0.25))\n",
    "\n",
    "model.add(Flatten())\n",
    "model.add(Dense(512))\n",
    "model.add(Activation('relu'))\n",
    "model.add(Dropout(0.5))\n",
    "model.add(Dense(num_classes))\n",
    "model.add(Activation('softmax'))\n",
    "\n",
    "\n",
    "model.compile(loss='sparse_categorical_crossentropy',optimizer='sgd',metrics=['accuracy'])\n"
   ]
  },
  {
   "cell_type": "code",
   "execution_count": 8,
   "metadata": {},
   "outputs": [],
   "source": [
    "#Image augmentation\n",
    "datagen = ImageDataGenerator(\n",
    "            featurewise_center=False, \n",
    "            samplewise_center=False,  \n",
    "            featurewise_std_normalization=False, \n",
    "            samplewise_std_normalization=False,  \n",
    "            zca_whitening=False,  \n",
    "            zca_epsilon=1e-06, \n",
    "            rotation_range=0,  \n",
    "            width_shift_range=0.1,\n",
    "            height_shift_range=0.1,\n",
    "            shear_range=0.,  \n",
    "            zoom_range=0.,  \n",
    "            channel_shift_range=0.,  \n",
    "            fill_mode='nearest',\n",
    "            cval=0.,  \n",
    "            horizontal_flip=True, \n",
    "            vertical_flip=False,\n",
    "            rescale=None,\n",
    "            preprocessing_function=None,\n",
    "            data_format=None,\n",
    "            validation_split=0.0)"
   ]
  },
  {
   "cell_type": "code",
   "execution_count": 9,
   "metadata": {},
   "outputs": [
    {
     "name": "stdout",
     "output_type": "stream",
     "text": [
      "Epoch 1/50\n",
      "163/163 [==============================] - 16s 97ms/step - loss: 0.5684 - accuracy: 0.7402 - val_loss: 0.6769 - val_accuracy: 0.7429\n",
      "Epoch 2/50\n",
      "163/163 [==============================] - 15s 95ms/step - loss: 0.5221 - accuracy: 0.7521 - val_loss: 0.6725 - val_accuracy: 0.7429\n",
      "Epoch 3/50\n",
      "163/163 [==============================] - 16s 95ms/step - loss: 0.4772 - accuracy: 0.7832 - val_loss: 0.6668 - val_accuracy: 0.7429\n",
      "Epoch 4/50\n",
      "163/163 [==============================] - 15s 93ms/step - loss: 0.4260 - accuracy: 0.8102 - val_loss: 0.6567 - val_accuracy: 0.7429\n",
      "Epoch 5/50\n",
      "163/163 [==============================] - 15s 93ms/step - loss: 0.3944 - accuracy: 0.8236 - val_loss: 0.6459 - val_accuracy: 0.7429\n",
      "Epoch 6/50\n",
      "163/163 [==============================] - 15s 94ms/step - loss: 0.3574 - accuracy: 0.8457 - val_loss: 0.6326 - val_accuracy: 0.7429\n",
      "Epoch 7/50\n",
      "163/163 [==============================] - 16s 101ms/step - loss: 0.3264 - accuracy: 0.8639 - val_loss: 0.6213 - val_accuracy: 0.7429\n",
      "Epoch 8/50\n",
      "163/163 [==============================] - 17s 107ms/step - loss: 0.3173 - accuracy: 0.8696 - val_loss: 0.6100 - val_accuracy: 0.7429\n",
      "Epoch 9/50\n",
      "163/163 [==============================] - 17s 105ms/step - loss: 0.2962 - accuracy: 0.8767 - val_loss: 0.6015 - val_accuracy: 0.7429\n",
      "Epoch 10/50\n",
      "163/163 [==============================] - 16s 96ms/step - loss: 0.2887 - accuracy: 0.8850 - val_loss: 0.5898 - val_accuracy: 0.7429\n",
      "Epoch 11/50\n",
      "163/163 [==============================] - 15s 92ms/step - loss: 0.2757 - accuracy: 0.8898 - val_loss: 0.5820 - val_accuracy: 0.7429\n",
      "Epoch 12/50\n",
      "163/163 [==============================] - 16s 96ms/step - loss: 0.2592 - accuracy: 0.8947 - val_loss: 0.5730 - val_accuracy: 0.7429\n",
      "Epoch 13/50\n",
      "163/163 [==============================] - 15s 95ms/step - loss: 0.2534 - accuracy: 0.9051 - val_loss: 0.5700 - val_accuracy: 0.7429\n",
      "Epoch 14/50\n",
      "163/163 [==============================] - 15s 95ms/step - loss: 0.2526 - accuracy: 0.8995 - val_loss: 0.5719 - val_accuracy: 0.7429\n",
      "Epoch 15/50\n",
      "163/163 [==============================] - 16s 100ms/step - loss: 0.2443 - accuracy: 0.9034 - val_loss: 0.5821 - val_accuracy: 0.7429\n",
      "Epoch 16/50\n",
      "163/163 [==============================] - 16s 98ms/step - loss: 0.2384 - accuracy: 0.9049 - val_loss: 0.5982 - val_accuracy: 0.7429\n",
      "Epoch 17/50\n",
      "163/163 [==============================] - 15s 94ms/step - loss: 0.2274 - accuracy: 0.9130 - val_loss: 0.6374 - val_accuracy: 0.7429\n",
      "Epoch 18/50\n",
      "163/163 [==============================] - 15s 95ms/step - loss: 0.2266 - accuracy: 0.9103 - val_loss: 0.6615 - val_accuracy: 0.7429\n",
      "Epoch 19/50\n",
      "163/163 [==============================] - 16s 98ms/step - loss: 0.2089 - accuracy: 0.9143 - val_loss: 0.7283 - val_accuracy: 0.7429\n",
      "Epoch 20/50\n",
      "163/163 [==============================] - 15s 95ms/step - loss: 0.2017 - accuracy: 0.9178 - val_loss: 0.8123 - val_accuracy: 0.7429\n",
      "Epoch 21/50\n",
      "163/163 [==============================] - 15s 94ms/step - loss: 0.2023 - accuracy: 0.9239 - val_loss: 0.8565 - val_accuracy: 0.7429\n",
      "Epoch 22/50\n",
      "163/163 [==============================] - 15s 94ms/step - loss: 0.1984 - accuracy: 0.9202 - val_loss: 0.9001 - val_accuracy: 0.7429\n",
      "Epoch 23/50\n",
      "163/163 [==============================] - 15s 95ms/step - loss: 0.1917 - accuracy: 0.9218 - val_loss: 0.9695 - val_accuracy: 0.7429\n",
      "Epoch 24/50\n",
      "163/163 [==============================] - 15s 94ms/step - loss: 0.1970 - accuracy: 0.9220 - val_loss: 1.0030 - val_accuracy: 0.7429\n",
      "Epoch 25/50\n",
      "163/163 [==============================] - 15s 94ms/step - loss: 0.1875 - accuracy: 0.9270 - val_loss: 1.1140 - val_accuracy: 0.7429\n",
      "Epoch 26/50\n",
      "163/163 [==============================] - 15s 94ms/step - loss: 0.1862 - accuracy: 0.9310 - val_loss: 1.1411 - val_accuracy: 0.7429\n",
      "Epoch 27/50\n",
      "163/163 [==============================] - 15s 94ms/step - loss: 0.1815 - accuracy: 0.9285 - val_loss: 1.2074 - val_accuracy: 0.7429\n",
      "Epoch 28/50\n",
      "163/163 [==============================] - 15s 94ms/step - loss: 0.1719 - accuracy: 0.9321 - val_loss: 1.2335 - val_accuracy: 0.7429\n",
      "Epoch 29/50\n",
      "163/163 [==============================] - 15s 94ms/step - loss: 0.1773 - accuracy: 0.9316 - val_loss: 1.2897 - val_accuracy: 0.7429\n",
      "Epoch 30/50\n",
      "163/163 [==============================] - 15s 94ms/step - loss: 0.1648 - accuracy: 0.9329 - val_loss: 1.4068 - val_accuracy: 0.7429\n",
      "Epoch 31/50\n",
      "163/163 [==============================] - 15s 94ms/step - loss: 0.1674 - accuracy: 0.9321 - val_loss: 1.4411 - val_accuracy: 0.7429\n",
      "Epoch 32/50\n",
      "163/163 [==============================] - 16s 96ms/step - loss: 0.1725 - accuracy: 0.9308 - val_loss: 1.4778 - val_accuracy: 0.7429\n",
      "Epoch 33/50\n",
      "163/163 [==============================] - 15s 93ms/step - loss: 0.1705 - accuracy: 0.9310 - val_loss: 1.4990 - val_accuracy: 0.7429\n",
      "Epoch 34/50\n",
      "163/163 [==============================] - 15s 94ms/step - loss: 0.1637 - accuracy: 0.9354 - val_loss: 1.5383 - val_accuracy: 0.7429\n",
      "Epoch 35/50\n",
      "163/163 [==============================] - 15s 94ms/step - loss: 0.1680 - accuracy: 0.9340 - val_loss: 1.5911 - val_accuracy: 0.7429\n",
      "Epoch 36/50\n",
      "163/163 [==============================] - 15s 92ms/step - loss: 0.1667 - accuracy: 0.9371 - val_loss: 1.5913 - val_accuracy: 0.7429\n",
      "Epoch 37/50\n",
      "163/163 [==============================] - 15s 93ms/step - loss: 0.1634 - accuracy: 0.9350 - val_loss: 1.6201 - val_accuracy: 0.7429\n",
      "Epoch 38/50\n",
      "163/163 [==============================] - 15s 92ms/step - loss: 0.1624 - accuracy: 0.9335 - val_loss: 1.6532 - val_accuracy: 0.7429\n",
      "Epoch 39/50\n",
      "163/163 [==============================] - 15s 92ms/step - loss: 0.1575 - accuracy: 0.9352 - val_loss: 1.6928 - val_accuracy: 0.7429\n",
      "Epoch 40/50\n",
      "163/163 [==============================] - 15s 92ms/step - loss: 0.1510 - accuracy: 0.9417 - val_loss: 1.7445 - val_accuracy: 0.7429\n",
      "Epoch 41/50\n",
      "163/163 [==============================] - 15s 92ms/step - loss: 0.1534 - accuracy: 0.9410 - val_loss: 1.7879 - val_accuracy: 0.7429\n",
      "Epoch 42/50\n",
      "163/163 [==============================] - 15s 92ms/step - loss: 0.1548 - accuracy: 0.9404 - val_loss: 1.7613 - val_accuracy: 0.7429\n",
      "Epoch 43/50\n",
      "163/163 [==============================] - 15s 92ms/step - loss: 0.1495 - accuracy: 0.9404 - val_loss: 1.8462 - val_accuracy: 0.7429\n",
      "Epoch 44/50\n",
      "163/163 [==============================] - 15s 91ms/step - loss: 0.1509 - accuracy: 0.9433 - val_loss: 1.8689 - val_accuracy: 0.7429\n",
      "Epoch 45/50\n",
      "163/163 [==============================] - 15s 93ms/step - loss: 0.1469 - accuracy: 0.9406 - val_loss: 1.8698 - val_accuracy: 0.7429\n",
      "Epoch 46/50\n",
      "163/163 [==============================] - 15s 92ms/step - loss: 0.1474 - accuracy: 0.9436 - val_loss: 1.9619 - val_accuracy: 0.7429\n",
      "Epoch 47/50\n",
      "163/163 [==============================] - 15s 92ms/step - loss: 0.1465 - accuracy: 0.9436 - val_loss: 1.9415 - val_accuracy: 0.7429\n",
      "Epoch 48/50\n",
      "163/163 [==============================] - 15s 89ms/step - loss: 0.1469 - accuracy: 0.9402 - val_loss: 1.9391 - val_accuracy: 0.7429\n",
      "Epoch 49/50\n",
      "163/163 [==============================] - 17s 105ms/step - loss: 0.1462 - accuracy: 0.9434 - val_loss: 1.9468 - val_accuracy: 0.7429\n",
      "Epoch 50/50\n",
      "163/163 [==============================] - 17s 102ms/step - loss: 0.1453 - accuracy: 0.9452 - val_loss: 1.9415 - val_accuracy: 0.7429\n"
     ]
    },
    {
     "data": {
      "text/plain": [
       "<keras.callbacks.callbacks.History at 0x1b1cb484fd0>"
      ]
     },
     "execution_count": 9,
     "metadata": {},
     "output_type": "execute_result"
    }
   ],
   "source": [
    "datagen.fit(img_data)\n",
    "    \n",
    "model.fit_generator(datagen.flow(img_data, labels, batch_size=batch_size),\n",
    "                            epochs=epochs,\n",
    "                            validation_data=(val_data, val_labels))"
   ]
  },
  {
   "cell_type": "code",
   "execution_count": 10,
   "metadata": {},
   "outputs": [
    {
     "name": "stdout",
     "output_type": "stream",
     "text": [
      "Training loss: 0.11356122618643967\n",
      "Training accuracy: 0.9576303958892822\n"
     ]
    }
   ],
   "source": [
    "scores = model.evaluate(img_data, labels, verbose=0)\n",
    "print('Training loss:', scores[0])\n",
    "print('Training accuracy:', scores[1])"
   ]
  },
  {
   "cell_type": "code",
   "execution_count": 11,
   "metadata": {},
   "outputs": [
    {
     "name": "stdout",
     "output_type": "stream",
     "text": [
      "Validation loss: 1.9414831923268752\n",
      "validation accuracy: 0.7429064512252808\n"
     ]
    }
   ],
   "source": [
    "scores = model.evaluate(val_data, val_labels, verbose=0)\n",
    "print('Validation loss:', scores[0])\n",
    "print('validation accuracy:', scores[1])"
   ]
  },
  {
   "cell_type": "code",
   "execution_count": 12,
   "metadata": {},
   "outputs": [
    {
     "name": "stdout",
     "output_type": "stream",
     "text": [
      "Test loss: 1.9414831923268752\n",
      "Test accuracy: 0.7429064512252808\n"
     ]
    }
   ],
   "source": [
    "scores = model.evaluate(test_data, test_labels, verbose=0)\n",
    "print('Test loss:', scores[0])\n",
    "print('Test accuracy:', scores[1])"
   ]
  },
  {
   "cell_type": "code",
   "execution_count": null,
   "metadata": {},
   "outputs": [],
   "source": []
  }
 ],
 "metadata": {
  "kernelspec": {
   "display_name": "Python 3",
   "language": "python",
   "name": "python3"
  },
  "language_info": {
   "codemirror_mode": {
    "name": "ipython",
    "version": 3
   },
   "file_extension": ".py",
   "mimetype": "text/x-python",
   "name": "python",
   "nbconvert_exporter": "python",
   "pygments_lexer": "ipython3",
   "version": "3.6.5"
  }
 },
 "nbformat": 4,
 "nbformat_minor": 2
}

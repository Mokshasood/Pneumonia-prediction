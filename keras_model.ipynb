{
 "cells": [
  {
   "cell_type": "code",
   "execution_count": 1,
   "metadata": {},
   "outputs": [],
   "source": [
    "import numpy as np\n",
    "import pandas as pd\n",
    "import matplotlib.pyplot as plt\n",
    "import cv2\n",
    "import os"
   ]
  },
  {
   "cell_type": "code",
   "execution_count": 2,
   "metadata": {},
   "outputs": [
    {
     "data": {
      "text/plain": [
       "(5216, 28, 28, 3)"
      ]
     },
     "execution_count": 2,
     "metadata": {},
     "output_type": "execute_result"
    }
   ],
   "source": [
    "path='C:\\\\Users\\\\hp\\\\Desktop\\\\Train'\n",
    "img_data=[]\n",
    "labels=[]\n",
    "cnt=0\n",
    "for i in os.listdir(path):\n",
    "    for j in os.listdir(path+'\\\\'+i):\n",
    "        img=cv2.imread(path+'\\\\'+i+'\\\\'+j)\n",
    "        img_resize=cv2.resize(img,(28,28))\n",
    "        img_data.append(img_resize)\n",
    "        labels.append(cnt)\n",
    "    cnt+=1\n",
    "labels=np.array(labels)\n",
    "img_data=np.array(img_data)\n",
    "img_data=img_data/255\n",
    "img_data.shape "
   ]
  },
  {
   "cell_type": "code",
   "execution_count": 3,
   "metadata": {},
   "outputs": [
    {
     "name": "stderr",
     "output_type": "stream",
     "text": [
      "C:\\Users\\hp\\Anaconda3\\lib\\site-packages\\h5py\\__init__.py:36: FutureWarning: Conversion of the second argument of issubdtype from `float` to `np.floating` is deprecated. In future, it will be treated as `np.float64 == np.dtype(float).type`.\n",
      "  from ._conv import register_converters as _register_converters\n",
      "Using TensorFlow backend.\n"
     ]
    }
   ],
   "source": [
    "import keras\n",
    "from keras.models import Sequential\n",
    "from keras.layers import Dense, Dropout, Activation, Flatten\n",
    "from keras.layers import Conv2D, MaxPooling2D"
   ]
  },
  {
   "cell_type": "code",
   "execution_count": 4,
   "metadata": {},
   "outputs": [],
   "source": [
    "num_classes=2\n",
    "epochs=50"
   ]
  },
  {
   "cell_type": "code",
   "execution_count": 5,
   "metadata": {},
   "outputs": [
    {
     "name": "stdout",
     "output_type": "stream",
     "text": [
      "Epoch 1/50\n",
      "5216/5216 [==============================] - 15s 3ms/step - loss: 0.5775 - accuracy: 0.7402\n",
      "Epoch 2/50\n",
      "5216/5216 [==============================] - 15s 3ms/step - loss: 0.5616 - accuracy: 0.7429\n",
      "Epoch 3/50\n",
      "5216/5216 [==============================] - 15s 3ms/step - loss: 0.5307 - accuracy: 0.7462\n",
      "Epoch 4/50\n",
      "5216/5216 [==============================] - 14s 3ms/step - loss: 0.4804 - accuracy: 0.7707\n",
      "Epoch 5/50\n",
      "5216/5216 [==============================] - 15s 3ms/step - loss: 0.4014 - accuracy: 0.8171\n",
      "Epoch 6/50\n",
      "5216/5216 [==============================] - 15s 3ms/step - loss: 0.3247 - accuracy: 0.8629\n",
      "Epoch 7/50\n",
      "5216/5216 [==============================] - 16s 3ms/step - loss: 0.2810 - accuracy: 0.8855\n",
      "Epoch 8/50\n",
      "5216/5216 [==============================] - 16s 3ms/step - loss: 0.2496 - accuracy: 0.8967\n",
      "Epoch 9/50\n",
      "5216/5216 [==============================] - 15s 3ms/step - loss: 0.2291 - accuracy: 0.9105\n",
      "Epoch 10/50\n",
      "5216/5216 [==============================] - 15s 3ms/step - loss: 0.2166 - accuracy: 0.9130 0s - loss: 0.2170 - ac\n",
      "Epoch 11/50\n",
      "5216/5216 [==============================] - 15s 3ms/step - loss: 0.2028 - accuracy: 0.9210\n",
      "Epoch 12/50\n",
      "5216/5216 [==============================] - 14s 3ms/step - loss: 0.1977 - accuracy: 0.9256 1s - loss:\n",
      "Epoch 13/50\n",
      "5216/5216 [==============================] - 15s 3ms/step - loss: 0.1836 - accuracy: 0.9325\n",
      "Epoch 14/50\n",
      "5216/5216 [==============================] - 15s 3ms/step - loss: 0.1798 - accuracy: 0.9312\n",
      "Epoch 15/50\n",
      "5216/5216 [==============================] - 14s 3ms/step - loss: 0.1782 - accuracy: 0.9304\n",
      "Epoch 16/50\n",
      "5216/5216 [==============================] - 14s 3ms/step - loss: 0.1720 - accuracy: 0.9365\n",
      "Epoch 17/50\n",
      "5216/5216 [==============================] - 14s 3ms/step - loss: 0.1657 - accuracy: 0.9331\n",
      "Epoch 18/50\n",
      "5216/5216 [==============================] - 14s 3ms/step - loss: 0.1552 - accuracy: 0.9388\n",
      "Epoch 19/50\n",
      "5216/5216 [==============================] - 14s 3ms/step - loss: 0.1609 - accuracy: 0.9377\n",
      "Epoch 20/50\n",
      "5216/5216 [==============================] - 14s 3ms/step - loss: 0.1459 - accuracy: 0.9383\n",
      "Epoch 21/50\n",
      "5216/5216 [==============================] - 14s 3ms/step - loss: 0.1444 - accuracy: 0.9444\n",
      "Epoch 22/50\n",
      "5216/5216 [==============================] - 15s 3ms/step - loss: 0.1422 - accuracy: 0.9459 1s - loss: 0.1419 - accuracy: 0.94 -\n",
      "Epoch 23/50\n",
      "5216/5216 [==============================] - 15s 3ms/step - loss: 0.1388 - accuracy: 0.9475\n",
      "Epoch 24/50\n",
      "5216/5216 [==============================] - 15s 3ms/step - loss: 0.1274 - accuracy: 0.9561\n",
      "Epoch 25/50\n",
      "5216/5216 [==============================] - 15s 3ms/step - loss: 0.1325 - accuracy: 0.9492\n",
      "Epoch 26/50\n",
      "5216/5216 [==============================] - 15s 3ms/step - loss: 0.1325 - accuracy: 0.9494\n",
      "Epoch 27/50\n",
      "5216/5216 [==============================] - 14s 3ms/step - loss: 0.1265 - accuracy: 0.9544\n",
      "Epoch 28/50\n",
      "5216/5216 [==============================] - 15s 3ms/step - loss: 0.1234 - accuracy: 0.9559\n",
      "Epoch 29/50\n",
      "5216/5216 [==============================] - 14s 3ms/step - loss: 0.1244 - accuracy: 0.9521\n",
      "Epoch 30/50\n",
      "5216/5216 [==============================] - 14s 3ms/step - loss: 0.1176 - accuracy: 0.9555\n",
      "Epoch 31/50\n",
      "5216/5216 [==============================] - 14s 3ms/step - loss: 0.1128 - accuracy: 0.9565\n",
      "Epoch 32/50\n",
      "5216/5216 [==============================] - 14s 3ms/step - loss: 0.1150 - accuracy: 0.9561 0s - loss: 0.114\n",
      "Epoch 33/50\n",
      "5216/5216 [==============================] - 14s 3ms/step - loss: 0.1138 - accuracy: 0.9590\n",
      "Epoch 34/50\n",
      "5216/5216 [==============================] - 14s 3ms/step - loss: 0.1101 - accuracy: 0.9590\n",
      "Epoch 35/50\n",
      "5216/5216 [==============================] - 14s 3ms/step - loss: 0.1087 - accuracy: 0.9574\n",
      "Epoch 36/50\n",
      "5216/5216 [==============================] - 14s 3ms/step - loss: 0.1066 - accuracy: 0.9607\n",
      "Epoch 37/50\n",
      "5216/5216 [==============================] - 14s 3ms/step - loss: 0.1071 - accuracy: 0.9584\n",
      "Epoch 38/50\n",
      "5216/5216 [==============================] - 14s 3ms/step - loss: 0.1010 - accuracy: 0.9632\n",
      "Epoch 39/50\n",
      "5216/5216 [==============================] - 15s 3ms/step - loss: 0.1019 - accuracy: 0.9611\n",
      "Epoch 40/50\n",
      "5216/5216 [==============================] - 14s 3ms/step - loss: 0.0994 - accuracy: 0.9607\n",
      "Epoch 41/50\n",
      "5216/5216 [==============================] - 14s 3ms/step - loss: 0.1006 - accuracy: 0.9615\n",
      "Epoch 42/50\n",
      "5216/5216 [==============================] - 14s 3ms/step - loss: 0.1005 - accuracy: 0.9622\n",
      "Epoch 43/50\n",
      "5216/5216 [==============================] - 14s 3ms/step - loss: 0.0960 - accuracy: 0.9626\n",
      "Epoch 44/50\n",
      "5216/5216 [==============================] - 14s 3ms/step - loss: 0.0975 - accuracy: 0.9626\n",
      "Epoch 45/50\n",
      "5216/5216 [==============================] - 14s 3ms/step - loss: 0.0917 - accuracy: 0.9661\n",
      "Epoch 46/50\n",
      "5216/5216 [==============================] - 14s 3ms/step - loss: 0.0923 - accuracy: 0.9655 \n",
      "Epoch 47/50\n",
      "5216/5216 [==============================] - 14s 3ms/step - loss: 0.0893 - accuracy: 0.9653\n",
      "Epoch 48/50\n",
      "5216/5216 [==============================] - 14s 3ms/step - loss: 0.0864 - accuracy: 0.9688\n",
      "Epoch 49/50\n",
      "5216/5216 [==============================] - 14s 3ms/step - loss: 0.0881 - accuracy: 0.9663\n",
      "Epoch 50/50\n",
      "5216/5216 [==============================] - 14s 3ms/step - loss: 0.0862 - accuracy: 0.9682\n"
     ]
    },
    {
     "data": {
      "text/plain": [
       "<keras.callbacks.callbacks.History at 0x25860493be0>"
      ]
     },
     "execution_count": 5,
     "metadata": {},
     "output_type": "execute_result"
    }
   ],
   "source": [
    "model = Sequential()\n",
    "model.add(Conv2D(32, (3, 3), padding='same',\n",
    "                 input_shape=img_data.shape[1:]))\n",
    "model.add(Activation('relu'))\n",
    "model.add(Conv2D(32, (3, 3)))\n",
    "model.add(Activation('relu'))\n",
    "model.add(MaxPooling2D(pool_size=(2, 2)))\n",
    "model.add(Dropout(0.25))\n",
    "\n",
    "model.add(Conv2D(64, (3, 3), padding='same'))\n",
    "model.add(Activation('relu'))\n",
    "model.add(Conv2D(64, (3, 3)))\n",
    "model.add(Activation('relu'))\n",
    "model.add(MaxPooling2D(pool_size=(2, 2)))\n",
    "model.add(Dropout(0.25))\n",
    "\n",
    "model.add(Flatten())\n",
    "model.add(Dense(512))\n",
    "model.add(Activation('relu'))\n",
    "model.add(Dropout(0.5))\n",
    "model.add(Dense(num_classes))\n",
    "model.add(Activation('softmax'))\n",
    "\n",
    "model.compile(loss='sparse_categorical_crossentropy',\n",
    "              optimizer='sgd',\n",
    "              metrics=['accuracy'])\n",
    "\n",
    "model.fit(img_data, labels, epochs=epochs, verbose=1)"
   ]
  },
  {
   "cell_type": "code",
   "execution_count": 6,
   "metadata": {},
   "outputs": [
    {
     "name": "stdout",
     "output_type": "stream",
     "text": [
      "Train loss: 0.06320411577839347\n",
      "Train accuracy: 0.9764187335968018\n"
     ]
    }
   ],
   "source": [
    "scores = model.evaluate(img_data, labels, verbose=0)\n",
    "print('Train loss:', scores[0])\n",
    "print('Train accuracy:', scores[1])"
   ]
  },
  {
   "cell_type": "code",
   "execution_count": 7,
   "metadata": {},
   "outputs": [
    {
     "data": {
      "text/plain": [
       "(5216, 28, 28, 3)"
      ]
     },
     "execution_count": 7,
     "metadata": {},
     "output_type": "execute_result"
    }
   ],
   "source": [
    "path='C:\\\\Users\\\\hp\\\\Desktop\\\\val'\n",
    "val_data=[]\n",
    "val_labels=[]\n",
    "cnt=0\n",
    "for i in os.listdir(path):\n",
    "    for j in os.listdir(path+'\\\\'+i):\n",
    "        img=cv2.imread(path+'\\\\'+i+'\\\\'+j)\n",
    "        img_resize=cv2.resize(img,(28,28))\n",
    "        val_data.append(img_resize)\n",
    "        val_labels.append(cnt)\n",
    "    cnt+=1\n",
    "val_labels=np.array(labels)\n",
    "val_data=np.array(img_data)\n",
    "val_data=img_data/255\n",
    "val_data.shape "
   ]
  },
  {
   "cell_type": "code",
   "execution_count": 8,
   "metadata": {},
   "outputs": [
    {
     "name": "stdout",
     "output_type": "stream",
     "text": [
      "Validation loss: 1.3245965977845016\n",
      "Validation accuracy: 0.7429064512252808\n"
     ]
    }
   ],
   "source": [
    "scores = model.evaluate(val_data, val_labels, verbose=0)\n",
    "print('Validation loss:', scores[0])\n",
    "print('Validation accuracy:', scores[1])"
   ]
  },
  {
   "cell_type": "code",
   "execution_count": 9,
   "metadata": {},
   "outputs": [
    {
     "data": {
      "text/plain": [
       "(5216, 28, 28, 3)"
      ]
     },
     "execution_count": 9,
     "metadata": {},
     "output_type": "execute_result"
    }
   ],
   "source": [
    "path='C:\\\\Users\\\\hp\\\\Desktop\\\\Test'\n",
    "test_data=[]\n",
    "test_labels=[]\n",
    "cnt=0\n",
    "for i in os.listdir(path):\n",
    "    for j in os.listdir(path+'\\\\'+i):\n",
    "        img=cv2.imread(path+'\\\\'+i+'\\\\'+j)\n",
    "        img_resize=cv2.resize(img,(28,28))\n",
    "        test_data.append(img_resize)\n",
    "        test_labels.append(cnt)\n",
    "    cnt+=1\n",
    "test_labels=np.array(labels)\n",
    "test_data=np.array(img_data)\n",
    "test_data=img_data/255\n",
    "test_data.shape "
   ]
  },
  {
   "cell_type": "code",
   "execution_count": 10,
   "metadata": {},
   "outputs": [
    {
     "name": "stdout",
     "output_type": "stream",
     "text": [
      "Test loss: 1.3245965977845016\n",
      "Test accuracy: 0.7429064512252808\n"
     ]
    }
   ],
   "source": [
    "scores = model.evaluate(test_data, test_labels, verbose=0)\n",
    "print('Test loss:', scores[0])\n",
    "print('Test accuracy:', scores[1])"
   ]
  },
  {
   "cell_type": "code",
   "execution_count": null,
   "metadata": {},
   "outputs": [],
   "source": []
  }
 ],
 "metadata": {
  "kernelspec": {
   "display_name": "Python 3",
   "language": "python",
   "name": "python3"
  },
  "language_info": {
   "codemirror_mode": {
    "name": "ipython",
    "version": 3
   },
   "file_extension": ".py",
   "mimetype": "text/x-python",
   "name": "python",
   "nbconvert_exporter": "python",
   "pygments_lexer": "ipython3",
   "version": "3.6.5"
  }
 },
 "nbformat": 4,
 "nbformat_minor": 2
}
